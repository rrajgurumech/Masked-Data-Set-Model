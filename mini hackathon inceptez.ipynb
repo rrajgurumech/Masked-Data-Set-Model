{
 "cells": [
  {
   "cell_type": "code",
   "execution_count": 12,
   "metadata": {},
   "outputs": [],
   "source": [
    "import numpy as np\n",
    "import pandas as pd\n",
    "import matplotlib.pyplot as plt\n",
    "import seaborn as sns"
   ]
  },
  {
   "cell_type": "code",
   "execution_count": 21,
   "metadata": {},
   "outputs": [],
   "source": [
    "train = pd.read_csv(r\"C:\\Users\\rrajguru\\Desktop\\Data Science rajguru\\Machine Learning\\InCePteZ Hackathon\\feb6th hackathon\\train.csv\")\n",
    "test = pd.read_csv(r\"C:\\Users\\rrajguru\\Desktop\\Data Science rajguru\\Machine Learning\\InCePteZ Hackathon\\feb6th hackathon\\test.csv\")"
   ]
  },
  {
   "cell_type": "code",
   "execution_count": 22,
   "metadata": {},
   "outputs": [
    {
     "data": {
      "text/plain": [
       "(14515, 216)"
      ]
     },
     "execution_count": 22,
     "metadata": {},
     "output_type": "execute_result"
    }
   ],
   "source": [
    "train.shape"
   ]
  },
  {
   "cell_type": "code",
   "execution_count": 23,
   "metadata": {},
   "outputs": [
    {
     "data": {
      "text/plain": [
       "(5294, 215)"
      ]
     },
     "execution_count": 23,
     "metadata": {},
     "output_type": "execute_result"
    }
   ],
   "source": [
    "test.shape"
   ]
  },
  {
   "cell_type": "code",
   "execution_count": 28,
   "metadata": {},
   "outputs": [
    {
     "data": {
      "text/html": [
       "<div>\n",
       "<style scoped>\n",
       "    .dataframe tbody tr th:only-of-type {\n",
       "        vertical-align: middle;\n",
       "    }\n",
       "\n",
       "    .dataframe tbody tr th {\n",
       "        vertical-align: top;\n",
       "    }\n",
       "\n",
       "    .dataframe thead th {\n",
       "        text-align: right;\n",
       "    }\n",
       "</style>\n",
       "<table border=\"1\" class=\"dataframe\">\n",
       "  <thead>\n",
       "    <tr style=\"text-align: right;\">\n",
       "      <th></th>\n",
       "      <th>ID</th>\n",
       "      <th>var3</th>\n",
       "      <th>var15</th>\n",
       "      <th>imp_ent_var16_ult1</th>\n",
       "      <th>imp_op_var39_comer_ult1</th>\n",
       "      <th>imp_op_var39_comer_ult3</th>\n",
       "      <th>imp_op_var40_comer_ult1</th>\n",
       "      <th>imp_op_var40_ult1</th>\n",
       "      <th>imp_op_var41_comer_ult1</th>\n",
       "      <th>imp_op_var41_comer_ult3</th>\n",
       "      <th>...</th>\n",
       "      <th>saldo_medio_var13_medio_ult1</th>\n",
       "      <th>saldo_medio_var17_ult3</th>\n",
       "      <th>saldo_medio_var29_hace2</th>\n",
       "      <th>saldo_medio_var29_hace3</th>\n",
       "      <th>saldo_medio_var29_ult1</th>\n",
       "      <th>saldo_medio_var33_hace3</th>\n",
       "      <th>saldo_medio_var33_ult3</th>\n",
       "      <th>saldo_medio_var44_hace3</th>\n",
       "      <th>var38</th>\n",
       "      <th>TARGET</th>\n",
       "    </tr>\n",
       "  </thead>\n",
       "  <tbody>\n",
       "    <tr>\n",
       "      <th>count</th>\n",
       "      <td>1.451200e+04</td>\n",
       "      <td>1.451200e+04</td>\n",
       "      <td>14512.000000</td>\n",
       "      <td>1.451200e+04</td>\n",
       "      <td>1.451200e+04</td>\n",
       "      <td>1.451200e+04</td>\n",
       "      <td>14512.000000</td>\n",
       "      <td>14512.000000</td>\n",
       "      <td>1.451200e+04</td>\n",
       "      <td>1.451200e+04</td>\n",
       "      <td>...</td>\n",
       "      <td>14512.0</td>\n",
       "      <td>14512.000000</td>\n",
       "      <td>14512.000000</td>\n",
       "      <td>14512.000000</td>\n",
       "      <td>14512.000000</td>\n",
       "      <td>14512.000000</td>\n",
       "      <td>14512.000000</td>\n",
       "      <td>14512.000000</td>\n",
       "      <td>1.451200e+04</td>\n",
       "      <td>14512.000000</td>\n",
       "    </tr>\n",
       "    <tr>\n",
       "      <th>mean</th>\n",
       "      <td>1.517192e+05</td>\n",
       "      <td>-1.923960e+03</td>\n",
       "      <td>67.191428</td>\n",
       "      <td>2.343722e+02</td>\n",
       "      <td>1.505363e+02</td>\n",
       "      <td>2.458842e+02</td>\n",
       "      <td>6.547678</td>\n",
       "      <td>4.927591</td>\n",
       "      <td>1.439886e+02</td>\n",
       "      <td>2.340687e+02</td>\n",
       "      <td>...</td>\n",
       "      <td>0.0</td>\n",
       "      <td>66.962307</td>\n",
       "      <td>0.008265</td>\n",
       "      <td>0.020011</td>\n",
       "      <td>0.463818</td>\n",
       "      <td>4.744287</td>\n",
       "      <td>19.324478</td>\n",
       "      <td>6.736679</td>\n",
       "      <td>2.281563e+05</td>\n",
       "      <td>0.184537</td>\n",
       "    </tr>\n",
       "    <tr>\n",
       "      <th>std</th>\n",
       "      <td>9.137956e+06</td>\n",
       "      <td>1.199645e+05</td>\n",
       "      <td>4046.875402</td>\n",
       "      <td>1.427244e+04</td>\n",
       "      <td>9.073658e+03</td>\n",
       "      <td>1.481970e+04</td>\n",
       "      <td>401.434248</td>\n",
       "      <td>303.137982</td>\n",
       "      <td>8.679059e+03</td>\n",
       "      <td>1.410756e+04</td>\n",
       "      <td>...</td>\n",
       "      <td>0.0</td>\n",
       "      <td>4253.765473</td>\n",
       "      <td>0.703996</td>\n",
       "      <td>1.704524</td>\n",
       "      <td>39.507617</td>\n",
       "      <td>338.756285</td>\n",
       "      <td>1291.785037</td>\n",
       "      <td>481.550263</td>\n",
       "      <td>1.374198e+07</td>\n",
       "      <td>11.118193</td>\n",
       "    </tr>\n",
       "    <tr>\n",
       "      <th>min</th>\n",
       "      <td>3.000000e+00</td>\n",
       "      <td>-1.396025e+07</td>\n",
       "      <td>5.000000</td>\n",
       "      <td>0.000000e+00</td>\n",
       "      <td>0.000000e+00</td>\n",
       "      <td>0.000000e+00</td>\n",
       "      <td>0.000000</td>\n",
       "      <td>0.000000</td>\n",
       "      <td>0.000000e+00</td>\n",
       "      <td>0.000000e+00</td>\n",
       "      <td>...</td>\n",
       "      <td>0.0</td>\n",
       "      <td>0.000000</td>\n",
       "      <td>0.000000</td>\n",
       "      <td>0.000000</td>\n",
       "      <td>0.000000</td>\n",
       "      <td>0.000000</td>\n",
       "      <td>0.000000</td>\n",
       "      <td>0.000000</td>\n",
       "      <td>5.163750e+03</td>\n",
       "      <td>0.000000</td>\n",
       "    </tr>\n",
       "    <tr>\n",
       "      <th>25%</th>\n",
       "      <td>3.877450e+04</td>\n",
       "      <td>2.000000e+00</td>\n",
       "      <td>23.000000</td>\n",
       "      <td>0.000000e+00</td>\n",
       "      <td>0.000000e+00</td>\n",
       "      <td>0.000000e+00</td>\n",
       "      <td>0.000000</td>\n",
       "      <td>0.000000</td>\n",
       "      <td>0.000000e+00</td>\n",
       "      <td>0.000000e+00</td>\n",
       "      <td>...</td>\n",
       "      <td>0.0</td>\n",
       "      <td>0.000000</td>\n",
       "      <td>0.000000</td>\n",
       "      <td>0.000000</td>\n",
       "      <td>0.000000</td>\n",
       "      <td>0.000000</td>\n",
       "      <td>0.000000</td>\n",
       "      <td>0.000000</td>\n",
       "      <td>6.708778e+04</td>\n",
       "      <td>0.000000</td>\n",
       "    </tr>\n",
       "    <tr>\n",
       "      <th>50%</th>\n",
       "      <td>7.567650e+04</td>\n",
       "      <td>2.000000e+00</td>\n",
       "      <td>28.000000</td>\n",
       "      <td>0.000000e+00</td>\n",
       "      <td>0.000000e+00</td>\n",
       "      <td>0.000000e+00</td>\n",
       "      <td>0.000000</td>\n",
       "      <td>0.000000</td>\n",
       "      <td>0.000000e+00</td>\n",
       "      <td>0.000000e+00</td>\n",
       "      <td>...</td>\n",
       "      <td>0.0</td>\n",
       "      <td>0.000000</td>\n",
       "      <td>0.000000</td>\n",
       "      <td>0.000000</td>\n",
       "      <td>0.000000</td>\n",
       "      <td>0.000000</td>\n",
       "      <td>0.000000</td>\n",
       "      <td>0.000000</td>\n",
       "      <td>1.052434e+05</td>\n",
       "      <td>0.000000</td>\n",
       "    </tr>\n",
       "    <tr>\n",
       "      <th>75%</th>\n",
       "      <td>1.134962e+05</td>\n",
       "      <td>2.000000e+00</td>\n",
       "      <td>40.000000</td>\n",
       "      <td>0.000000e+00</td>\n",
       "      <td>0.000000e+00</td>\n",
       "      <td>0.000000e+00</td>\n",
       "      <td>0.000000</td>\n",
       "      <td>0.000000</td>\n",
       "      <td>0.000000e+00</td>\n",
       "      <td>0.000000e+00</td>\n",
       "      <td>...</td>\n",
       "      <td>0.0</td>\n",
       "      <td>0.000000</td>\n",
       "      <td>0.000000</td>\n",
       "      <td>0.000000</td>\n",
       "      <td>0.000000</td>\n",
       "      <td>0.000000</td>\n",
       "      <td>0.000000</td>\n",
       "      <td>0.000000</td>\n",
       "      <td>1.181087e+05</td>\n",
       "      <td>0.000000</td>\n",
       "    </tr>\n",
       "    <tr>\n",
       "      <th>max</th>\n",
       "      <td>1.100874e+09</td>\n",
       "      <td>2.230000e+02</td>\n",
       "      <td>487541.000000</td>\n",
       "      <td>1.700605e+06</td>\n",
       "      <td>1.092291e+06</td>\n",
       "      <td>1.784136e+06</td>\n",
       "      <td>47509.950000</td>\n",
       "      <td>35754.600000</td>\n",
       "      <td>1.044781e+06</td>\n",
       "      <td>1.698402e+06</td>\n",
       "      <td>...</td>\n",
       "      <td>0.0</td>\n",
       "      <td>485878.500000</td>\n",
       "      <td>59.970000</td>\n",
       "      <td>145.200000</td>\n",
       "      <td>3365.460000</td>\n",
       "      <td>34424.550000</td>\n",
       "      <td>140218.410000</td>\n",
       "      <td>48881.340000</td>\n",
       "      <td>1.655502e+09</td>\n",
       "      <td>1339.000000</td>\n",
       "    </tr>\n",
       "  </tbody>\n",
       "</table>\n",
       "<p>8 rows × 215 columns</p>\n",
       "</div>"
      ],
      "text/plain": [
       "                 ID          var3          var15  imp_ent_var16_ult1  \\\n",
       "count  1.451200e+04  1.451200e+04   14512.000000        1.451200e+04   \n",
       "mean   1.517192e+05 -1.923960e+03      67.191428        2.343722e+02   \n",
       "std    9.137956e+06  1.199645e+05    4046.875402        1.427244e+04   \n",
       "min    3.000000e+00 -1.396025e+07       5.000000        0.000000e+00   \n",
       "25%    3.877450e+04  2.000000e+00      23.000000        0.000000e+00   \n",
       "50%    7.567650e+04  2.000000e+00      28.000000        0.000000e+00   \n",
       "75%    1.134962e+05  2.000000e+00      40.000000        0.000000e+00   \n",
       "max    1.100874e+09  2.230000e+02  487541.000000        1.700605e+06   \n",
       "\n",
       "       imp_op_var39_comer_ult1  imp_op_var39_comer_ult3  \\\n",
       "count             1.451200e+04             1.451200e+04   \n",
       "mean              1.505363e+02             2.458842e+02   \n",
       "std               9.073658e+03             1.481970e+04   \n",
       "min               0.000000e+00             0.000000e+00   \n",
       "25%               0.000000e+00             0.000000e+00   \n",
       "50%               0.000000e+00             0.000000e+00   \n",
       "75%               0.000000e+00             0.000000e+00   \n",
       "max               1.092291e+06             1.784136e+06   \n",
       "\n",
       "       imp_op_var40_comer_ult1  imp_op_var40_ult1  imp_op_var41_comer_ult1  \\\n",
       "count             14512.000000       14512.000000             1.451200e+04   \n",
       "mean                  6.547678           4.927591             1.439886e+02   \n",
       "std                 401.434248         303.137982             8.679059e+03   \n",
       "min                   0.000000           0.000000             0.000000e+00   \n",
       "25%                   0.000000           0.000000             0.000000e+00   \n",
       "50%                   0.000000           0.000000             0.000000e+00   \n",
       "75%                   0.000000           0.000000             0.000000e+00   \n",
       "max               47509.950000       35754.600000             1.044781e+06   \n",
       "\n",
       "       imp_op_var41_comer_ult3  ...  saldo_medio_var13_medio_ult1  \\\n",
       "count             1.451200e+04  ...                       14512.0   \n",
       "mean              2.340687e+02  ...                           0.0   \n",
       "std               1.410756e+04  ...                           0.0   \n",
       "min               0.000000e+00  ...                           0.0   \n",
       "25%               0.000000e+00  ...                           0.0   \n",
       "50%               0.000000e+00  ...                           0.0   \n",
       "75%               0.000000e+00  ...                           0.0   \n",
       "max               1.698402e+06  ...                           0.0   \n",
       "\n",
       "       saldo_medio_var17_ult3  saldo_medio_var29_hace2  \\\n",
       "count            14512.000000             14512.000000   \n",
       "mean                66.962307                 0.008265   \n",
       "std               4253.765473                 0.703996   \n",
       "min                  0.000000                 0.000000   \n",
       "25%                  0.000000                 0.000000   \n",
       "50%                  0.000000                 0.000000   \n",
       "75%                  0.000000                 0.000000   \n",
       "max             485878.500000                59.970000   \n",
       "\n",
       "       saldo_medio_var29_hace3  saldo_medio_var29_ult1  \\\n",
       "count             14512.000000            14512.000000   \n",
       "mean                  0.020011                0.463818   \n",
       "std                   1.704524               39.507617   \n",
       "min                   0.000000                0.000000   \n",
       "25%                   0.000000                0.000000   \n",
       "50%                   0.000000                0.000000   \n",
       "75%                   0.000000                0.000000   \n",
       "max                 145.200000             3365.460000   \n",
       "\n",
       "       saldo_medio_var33_hace3  saldo_medio_var33_ult3  \\\n",
       "count             14512.000000            14512.000000   \n",
       "mean                  4.744287               19.324478   \n",
       "std                 338.756285             1291.785037   \n",
       "min                   0.000000                0.000000   \n",
       "25%                   0.000000                0.000000   \n",
       "50%                   0.000000                0.000000   \n",
       "75%                   0.000000                0.000000   \n",
       "max               34424.550000           140218.410000   \n",
       "\n",
       "       saldo_medio_var44_hace3         var38        TARGET  \n",
       "count             14512.000000  1.451200e+04  14512.000000  \n",
       "mean                  6.736679  2.281563e+05      0.184537  \n",
       "std                 481.550263  1.374198e+07     11.118193  \n",
       "min                   0.000000  5.163750e+03      0.000000  \n",
       "25%                   0.000000  6.708778e+04      0.000000  \n",
       "50%                   0.000000  1.052434e+05      0.000000  \n",
       "75%                   0.000000  1.181087e+05      0.000000  \n",
       "max               48881.340000  1.655502e+09   1339.000000  \n",
       "\n",
       "[8 rows x 215 columns]"
      ]
     },
     "execution_count": 28,
     "metadata": {},
     "output_type": "execute_result"
    }
   ],
   "source": [
    "train.describe()"
   ]
  },
  {
   "cell_type": "code",
   "execution_count": 25,
   "metadata": {},
   "outputs": [
    {
     "data": {
      "text/plain": [
       "ID                               3\n",
       "var3                             3\n",
       "var15                            3\n",
       "Age Group                        4\n",
       "imp_ent_var16_ult1               3\n",
       "imp_op_var39_comer_ult1          3\n",
       "imp_op_var39_comer_ult3          3\n",
       "imp_op_var40_comer_ult1          3\n",
       "imp_op_var40_ult1                3\n",
       "imp_op_var41_comer_ult1          3\n",
       "imp_op_var41_comer_ult3          3\n",
       "imp_op_var41_efect_ult1          3\n",
       "imp_op_var41_efect_ult3          3\n",
       "imp_op_var41_ult1                3\n",
       "imp_op_var39_efect_ult3          3\n",
       "imp_op_var39_ult1                3\n",
       "imp_sal_var16_ult1               3\n",
       "ind_var1                         3\n",
       "ind_var5_0                       3\n",
       "ind_var5                         3\n",
       "ind_var6                         3\n",
       "ind_var8_0                       3\n",
       "ind_var12_0                      3\n",
       "ind_var13_0                      3\n",
       "ind_var13_medio_0                3\n",
       "ind_var14                        3\n",
       "ind_var17_0                      3\n",
       "ind_var17                        3\n",
       "ind_var18_0                      3\n",
       "ind_var20                        3\n",
       "                                ..\n",
       "num_var45_ult3                   3\n",
       "saldo_var2_ult1                  3\n",
       "saldo_medio_var5_hace2           3\n",
       "saldo_medio_var5_hace3           3\n",
       "saldo_medio_var5_ult1            3\n",
       "saldo_medio_var5_ult3            3\n",
       "saldo_medio_var8_hace2           3\n",
       "saldo_medio_var8_hace3           3\n",
       "saldo_medio_var8_ult1            3\n",
       "saldo_medio_var12_hace2          3\n",
       "saldo_medio_var12_hace3          3\n",
       "saldo_medio_var12_ult1           3\n",
       "saldo_medio_var12_ult3           3\n",
       "saldo_medio_var13_corto_hace2    3\n",
       "saldo_medio_var13_corto_hace3    3\n",
       "saldo_medio_var13_corto_ult3     3\n",
       "saldo_medio_var13_largo_hace3    3\n",
       "saldo_medio_var13_largo_ult1     3\n",
       "saldo_medio_var13_largo_ult3     3\n",
       "saldo_medio_var13_medio_hace3    3\n",
       "saldo_medio_var13_medio_ult1     3\n",
       "saldo_medio_var17_ult3           3\n",
       "saldo_medio_var29_hace2          3\n",
       "saldo_medio_var29_hace3          3\n",
       "saldo_medio_var29_ult1           3\n",
       "saldo_medio_var33_hace3          3\n",
       "saldo_medio_var33_ult3           3\n",
       "saldo_medio_var44_hace3          3\n",
       "var38                            3\n",
       "TARGET                           3\n",
       "Length: 216, dtype: int64"
      ]
     },
     "execution_count": 25,
     "metadata": {},
     "output_type": "execute_result"
    }
   ],
   "source": [
    "train.isna().sum()"
   ]
  },
  {
   "cell_type": "code",
   "execution_count": 18,
   "metadata": {},
   "outputs": [
    {
     "data": {
      "text/plain": [
       "ID                               0\n",
       "var3                             0\n",
       "var15                            0\n",
       "imp_ent_var16_ult1               0\n",
       "imp_op_var39_comer_ult1          0\n",
       "imp_op_var39_comer_ult3          0\n",
       "imp_op_var40_comer_ult1          0\n",
       "imp_op_var40_ult1                0\n",
       "imp_op_var41_comer_ult1          0\n",
       "imp_op_var41_comer_ult3          0\n",
       "imp_op_var41_efect_ult1          0\n",
       "imp_op_var41_efect_ult3          0\n",
       "imp_op_var41_ult1                0\n",
       "imp_op_var39_efect_ult3          0\n",
       "imp_op_var39_ult1                0\n",
       "imp_sal_var16_ult1               0\n",
       "ind_var1                         0\n",
       "ind_var5_0                       0\n",
       "ind_var5                         0\n",
       "ind_var6                         0\n",
       "ind_var8_0                       0\n",
       "ind_var12_0                      0\n",
       "ind_var13_0                      0\n",
       "ind_var13_medio_0                0\n",
       "ind_var14                        0\n",
       "ind_var17_0                      0\n",
       "ind_var17                        0\n",
       "ind_var18_0                      0\n",
       "ind_var20                        0\n",
       "ind_var24_0                      0\n",
       "                                ..\n",
       "num_var45_ult3                   0\n",
       "saldo_var2_ult1                  0\n",
       "saldo_medio_var5_hace2           0\n",
       "saldo_medio_var5_hace3           0\n",
       "saldo_medio_var5_ult1            0\n",
       "saldo_medio_var5_ult3            0\n",
       "saldo_medio_var8_hace2           0\n",
       "saldo_medio_var8_hace3           0\n",
       "saldo_medio_var8_ult1            0\n",
       "saldo_medio_var12_hace2          0\n",
       "saldo_medio_var12_hace3          0\n",
       "saldo_medio_var12_ult1           0\n",
       "saldo_medio_var12_ult3           0\n",
       "saldo_medio_var13_corto_hace2    0\n",
       "saldo_medio_var13_corto_hace3    0\n",
       "saldo_medio_var13_corto_ult3     0\n",
       "saldo_medio_var13_largo_hace3    0\n",
       "saldo_medio_var13_largo_ult1     0\n",
       "saldo_medio_var13_largo_ult3     0\n",
       "saldo_medio_var13_medio_hace3    0\n",
       "saldo_medio_var13_medio_ult1     0\n",
       "saldo_medio_var17_ult3           0\n",
       "saldo_medio_var29_hace2          0\n",
       "saldo_medio_var29_hace3          0\n",
       "saldo_medio_var29_ult1           0\n",
       "saldo_medio_var33_hace3          0\n",
       "saldo_medio_var33_ult3           0\n",
       "saldo_medio_var44_hace3          0\n",
       "var38                            0\n",
       "TARGET                           0\n",
       "Length: 215, dtype: int64"
      ]
     },
     "execution_count": 18,
     "metadata": {},
     "output_type": "execute_result"
    }
   ],
   "source": [
    "test.isna().sum()"
   ]
  },
  {
   "cell_type": "code",
   "execution_count": 29,
   "metadata": {
    "scrolled": true
   },
   "outputs": [
    {
     "data": {
      "text/plain": [
       "<matplotlib.axes._subplots.AxesSubplot at 0x260b866ccc0>"
      ]
     },
     "execution_count": 29,
     "metadata": {},
     "output_type": "execute_result"
    },
    {
     "data": {
      "image/png": "[encoded data removed]",
      "text/plain": [
       "<Figure size 432x288 with 1 Axes>"
      ]
     },
     "metadata": {},
     "output_type": "display_data"
    }
   ],
   "source": [
    "train['TARGET'].value_counts().plot(kind = \"pie\")"
   ]
  },
  {
   "cell_type": "code",
   "execution_count": null,
   "metadata": {},
   "outputs": [],
   "source": [
    "## Insights\n",
    "1) the Claim amount starts only when the bill is more than 10,000 Rs\n",
    "2) Only 9.2% of the customers have claimed the insurance.\n"
   ]
  },
  {
   "cell_type": "code",
   "execution_count": 9,
   "metadata": {},
   "outputs": [],
   "source": [
    "### Data Analysis"
   ]
  },
  {
   "cell_type": "code",
   "execution_count": 27,
   "metadata": {
    "scrolled": true
   },
   "outputs": [
    {
     "data": {
      "text/plain": [
       "Index(['ID', 'var3', 'var15', 'Age Group', 'imp_ent_var16_ult1',\n",
       "       'imp_op_var39_comer_ult1', 'imp_op_var39_comer_ult3',\n",
       "       'imp_op_var40_comer_ult1', 'imp_op_var40_ult1',\n",
       "       'imp_op_var41_comer_ult1',\n",
       "       ...\n",
       "       'saldo_medio_var13_medio_ult1', 'saldo_medio_var17_ult3',\n",
       "       'saldo_medio_var29_hace2', 'saldo_medio_var29_hace3',\n",
       "       'saldo_medio_var29_ult1', 'saldo_medio_var33_hace3',\n",
       "       'saldo_medio_var33_ult3', 'saldo_medio_var44_hace3', 'var38', 'TARGET'],\n",
       "      dtype='object', length=216)"
      ]
     },
     "execution_count": 27,
     "metadata": {},
     "output_type": "execute_result"
    }
   ],
   "source": [
    "train.columns"
   ]
  },
  {
   "cell_type": "code",
   "execution_count": 30,
   "metadata": {},
   "outputs": [],
   "source": [
    "# Considering var15 column as age since the range is between 5-104"
   ]
  },
  {
   "cell_type": "code",
   "execution_count": 40,
   "metadata": {},
   "outputs": [
    {
     "data": {
      "text/plain": [
       "23.0        3637\n",
       "24.0        1157\n",
       "25.0         751\n",
       "26.0         616\n",
       "27.0         542\n",
       "28.0         454\n",
       "29.0         360\n",
       "31.0         355\n",
       "36.0         334\n",
       "32.0         317\n",
       "34.0         310\n",
       "30.0         304\n",
       "38.0         290\n",
       "37.0         278\n",
       "35.0         277\n",
       "39.0         261\n",
       "40.0         258\n",
       "33.0         257\n",
       "42.0         233\n",
       "41.0         228\n",
       "44.0         215\n",
       "45.0         212\n",
       "43.0         209\n",
       "22.0         174\n",
       "48.0         163\n",
       "46.0         153\n",
       "47.0         149\n",
       "51.0         144\n",
       "50.0         142\n",
       "52.0         141\n",
       "            ... \n",
       "86.0           8\n",
       "90.0           8\n",
       "14.0           7\n",
       "5.0            7\n",
       "87.0           7\n",
       "11.0           6\n",
       "19.0           6\n",
       "82.0           5\n",
       "17.0           5\n",
       "91.0           5\n",
       "18.0           4\n",
       "15.0           4\n",
       "21.0           4\n",
       "94.0           4\n",
       "93.0           3\n",
       "99.0           3\n",
       "20.0           3\n",
       "9.0            3\n",
       "12.0           2\n",
       "6.0            2\n",
       "8.0            2\n",
       "16.0           2\n",
       "92.0           1\n",
       "487541.0       1\n",
       "104.0          1\n",
       "102.0          1\n",
       "13.0           1\n",
       "96.0           1\n",
       "10.0           1\n",
       "95.0           1\n",
       "Name: var15, Length: 95, dtype: int64"
      ]
     },
     "execution_count": 40,
     "metadata": {},
     "output_type": "execute_result"
    }
   ],
   "source": [
    "train[\"var15\"].value_counts()"
   ]
  },
  {
   "cell_type": "code",
   "execution_count": 55,
   "metadata": {
    "scrolled": true
   },
   "outputs": [
    {
     "data": {
      "text/plain": [
       "<matplotlib.axes._subplots.AxesSubplot at 0x260baba4048>"
      ]
     },
     "execution_count": 55,
     "metadata": {},
     "output_type": "execute_result"
    },
    {
     "data": {
      "image/png": "[encoded data removed]",
      "text/plain": [
       "<Figure size 432x288 with 1 Axes>"
      ]
     },
     "metadata": {
      "needs_background": "light"
     },
     "output_type": "display_data"
    }
   ],
   "source": [
    "sns.countplot(train[\"Age Group\"],hue = train[\"TARGET\"])"
   ]
  },
  {
   "cell_type": "code",
   "execution_count": null,
   "metadata": {},
   "outputs": [],
   "source": [
    "### Insights\n",
    "1) Age group 21-50, has got the claims which is contributing to 82%.\n",
    "2) Age group 31-40 has claimed the most contributing to 31.81%\n",
    "3) Age group 1-20 have not claimed any insurance\n",
    "4) Age group 71-80 have been reimbursed more but has a lesser premium compared to other age groups.\n",
    "5) Age group 81-100 have not paid premium but have claimed reimbursement."
   ]
  },
  {
   "cell_type": "code",
   "execution_count": 57,
   "metadata": {
    "scrolled": true
   },
   "outputs": [
    {
     "data": {
      "text/plain": [
       "<matplotlib.axes._subplots.AxesSubplot at 0x260f7fe6c50>"
      ]
     },
     "execution_count": 57,
     "metadata": {},
     "output_type": "execute_result"
    },
    {
     "data": {
      "image/png": "[encoded data removed]",
      "text/plain": [
       "<Figure size 432x288 with 1 Axes>"
      ]
     },
     "metadata": {},
     "output_type": "display_data"
    }
   ],
   "source": [
    "train['imp_sal_var16_ult1'].value_counts().plot(kind = \"pie\")"
   ]
  },
  {
   "cell_type": "code",
   "execution_count": 58,
   "metadata": {},
   "outputs": [
    {
     "data": {
      "text/plain": [
       "<matplotlib.axes._subplots.AxesSubplot at 0x260f81e03c8>"
      ]
     },
     "execution_count": 58,
     "metadata": {},
     "output_type": "execute_result"
    },
    {
     "data": {
      "image/png": "[encoded data removed]",
      "text/plain": [
       "<Figure size 432x288 with 1 Axes>"
      ]
     },
     "metadata": {},
     "output_type": "display_data"
    }
   ],
   "source": [
    "train['var36'].value_counts().plot(kind = \"pie\")"
   ]
  },
  {
   "cell_type": "code",
   "execution_count": null,
   "metadata": {},
   "outputs": [],
   "source": [
    "### Insights\n",
    "1) Considering \"imp_sal_var16_ult1\" as gender , 90% reimbursed are male.\n",
    "2) var36 is a variable where when category \"0\" is selected only age 21,22 are present and have not done any claims, which may be the first time insurance registration.\n",
    "3) var36 describes the category of customer, where 99 is the existing customer."
   ]
  }
 ],
 "metadata": {
  "kernelspec": {
   "display_name": "Python 3",
   "language": "python",
   "name": "python3"
  },
  "language_info": {
   "codemirror_mode": {
    "name": "ipython",
    "version": 3
   },
   "file_extension": ".py",
   "mimetype": "text/x-python",
   "name": "python",
   "nbconvert_exporter": "python",
   "pygments_lexer": "ipython3",
   "version": "3.6.8"
  }
 },
 "nbformat": 4,
 "nbformat_minor": 2
}
